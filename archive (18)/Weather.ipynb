{
 "cells": [
  {
   "cell_type": "code",
   "execution_count": 17,
   "metadata": {},
   "outputs": [
    {
     "name": "stdout",
     "output_type": "stream",
     "text": [
      "Enter your city - \n",
      "Looks like it's Light rain with 14.0 degrees celsius in Tokyo.\n"
     ]
    }
   ],
   "source": [
    "import requests\n",
    "\n",
    "def get_weather_data(query):\n",
    "    key = \"bac8161661ba4fb19d475515230804\"\n",
    "    query = query.strip().replace(\" \", \"_\")\n",
    "    URL = f\"http://api.weatherapi.com/v1/forecast.json?key={key}&q={query}&days=1&aqi=yes&alerts=yes\"\n",
    "    r = requests.get(url = URL)\n",
    "    data = r.json()\n",
    "    final = f\"Looks like it's {data['current']['condition']['text']} with {data['current']['temp_c']} degrees celsius in {data['location']['name']}.\"\n",
    "    if(len(data['alerts']['alert']) > 0):\n",
    "        final += \"\\nActive Alert - \"\n",
    "        for i in data['alerts']['alert']:\n",
    "            final = final + \"\\n\" + i\n",
    "    return final"
   ]
  },
  {
   "cell_type": "code",
   "execution_count": null,
   "metadata": {},
   "outputs": [],
   "source": [
    "bmi = \"\"\n",
    "\n",
    "def bmi(height, weight):\n",
    "    bmi = weight / (height ** 2)\n"
   ]
  }
 ],
 "metadata": {
  "kernelspec": {
   "display_name": "Python 3",
   "language": "python",
   "name": "python3"
  },
  "language_info": {
   "codemirror_mode": {
    "name": "ipython",
    "version": 3
   },
   "file_extension": ".py",
   "mimetype": "text/x-python",
   "name": "python",
   "nbconvert_exporter": "python",
   "pygments_lexer": "ipython3",
   "version": "3.10.10"
  },
  "orig_nbformat": 4
 },
 "nbformat": 4,
 "nbformat_minor": 2
}
