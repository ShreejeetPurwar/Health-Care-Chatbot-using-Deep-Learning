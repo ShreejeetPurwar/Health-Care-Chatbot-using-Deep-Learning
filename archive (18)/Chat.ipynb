{
 "cells": [
  {
   "cell_type": "code",
   "execution_count": 3,
   "metadata": {},
   "outputs": [
    {
     "name": "stdout",
     "output_type": "stream",
     "text": [
      "The common symptoms of arthritis include pain, stiffness, swelling, and reduced range of motion in the joints.\n"
     ]
    }
   ],
   "source": [
    "import random\n",
    "import json\n",
    "import torch\n",
    "import torch.nn as nn\n",
    "import torch.optim as optim\n",
    "import nltk\n",
    "import numpy as np\n",
    "from nltk.stem.porter import PorterStemmer\n",
    "\n",
    "disease_name = 'arthritis'\n",
    "\n",
    "with open(f'{disease_name}.json', 'r') as json_data:\n",
    "    intents = json.load(json_data)\n",
    "\n",
    "data = torch.load(f\"{disease_name}_data.pth\")\n",
    "\n",
    "stemmer = PorterStemmer()\n",
    "\n",
    "def bow(tokenized, words):\n",
    "    sentence_words = [stemmer.stem(word.lower()) for word in tokenized]\n",
    "    bag = np.zeros(len(words), dtype = np.float32)\n",
    "    for i, n in enumerate(words):\n",
    "        if n in sentence_words:\n",
    "            bag[i] = 1\n",
    "    return bag\n",
    "\n",
    "input_size = data[\"input_size\"]\n",
    "hidden_size = data[\"hidden_size\"]\n",
    "output_size = data[\"output_size\"]\n",
    "all_words = data['all_words']\n",
    "tags = data['tags']\n",
    "\n",
    "class ChatBotModel(nn.Module):\n",
    "    def __init__(self, input_size, hidden_size, output_size):\n",
    "        super(ChatBotModel, self).__init__()\n",
    "        self.fc1 = nn.Linear(input_size, hidden_size)\n",
    "        self.dropout1 = nn.Dropout(0.5)\n",
    "        self.fc2 = nn.Linear(hidden_size, 128)\n",
    "        self.dropout2 = nn.Dropout(0.5)\n",
    "        self.fc3 = nn.Linear(128, output_size)\n",
    "        self.softmax = nn.Softmax(dim=1)\n",
    "\n",
    "    def forward(self, x):\n",
    "        x = torch.relu(self.fc1(x))\n",
    "        x = self.dropout1(x)\n",
    "        x = torch.relu(self.fc2(x))\n",
    "        x = self.dropout2(x)\n",
    "        x = self.fc3(x)\n",
    "        x = self.softmax(x)\n",
    "        return x\n",
    "\n",
    "model = ChatBotModel(input_size, hidden_size, output_size)\n",
    "model.load_state_dict(torch.load(f'{disease_name}.pth'))\n",
    "model.eval()\n",
    "\n",
    "while True:\n",
    "    sentence = input(\"You: \") # Input \n",
    "    if sentence == \"quit\":\n",
    "        break\n",
    "\n",
    "    sentence = nltk.word_tokenize(sentence)\n",
    "    X = bow(sentence, all_words)\n",
    "    X = X.reshape(1, X.shape[0])\n",
    "    X = torch.from_numpy(X)\n",
    "\n",
    "    output = model(X)\n",
    "    _, predicted = torch.max(output, dim=1)\n",
    "\n",
    "    tag = tags[predicted.item()]\n",
    "\n",
    "    probs = torch.softmax(output, dim=1)\n",
    "    prob = probs[0][predicted.item()]\n",
    "    for intent in intents['intents']:\n",
    "        if tag == intent[\"tag\"]:\n",
    "            print(random.choice(intent['responses'])) # Output\n"
   ]
  },
  {
   "cell_type": "code",
   "execution_count": null,
   "metadata": {},
   "outputs": [],
   "source": []
  }
 ],
 "metadata": {
  "kernelspec": {
   "display_name": "Python 3",
   "language": "python",
   "name": "python3"
  },
  "language_info": {
   "codemirror_mode": {
    "name": "ipython",
    "version": 3
   },
   "file_extension": ".py",
   "mimetype": "text/x-python",
   "name": "python",
   "nbconvert_exporter": "python",
   "pygments_lexer": "ipython3",
   "version": "3.10.10"
  },
  "orig_nbformat": 4
 },
 "nbformat": 4,
 "nbformat_minor": 2
}
