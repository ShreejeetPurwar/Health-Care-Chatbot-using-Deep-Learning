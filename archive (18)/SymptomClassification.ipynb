{
 "cells": [
  {
   "cell_type": "code",
   "execution_count": 2,
   "metadata": {},
   "outputs": [],
   "source": [
    "import numpy as np\n",
    "import pandas as pd\n",
    "import matplotlib.pyplot as plt\n",
    "import operator\n",
    "import torch\n",
    "import torch.nn as nn\n",
    "import torch.optim as optim\n",
    "import numpy as np\n",
    "from sklearn.model_selection import train_test_split"
   ]
  },
  {
   "cell_type": "code",
   "execution_count": 3,
   "metadata": {},
   "outputs": [
    {
     "data": {
      "text/html": [
       "<div>\n",
       "<style scoped>\n",
       "    .dataframe tbody tr th:only-of-type {\n",
       "        vertical-align: middle;\n",
       "    }\n",
       "\n",
       "    .dataframe tbody tr th {\n",
       "        vertical-align: top;\n",
       "    }\n",
       "\n",
       "    .dataframe thead th {\n",
       "        text-align: right;\n",
       "    }\n",
       "</style>\n",
       "<table border=\"1\" class=\"dataframe\">\n",
       "  <thead>\n",
       "    <tr style=\"text-align: right;\">\n",
       "      <th></th>\n",
       "      <th>Disease</th>\n",
       "      <th>Symptom_1</th>\n",
       "      <th>Symptom_2</th>\n",
       "      <th>Symptom_3</th>\n",
       "      <th>Symptom_4</th>\n",
       "      <th>Symptom_5</th>\n",
       "      <th>Symptom_6</th>\n",
       "      <th>Symptom_7</th>\n",
       "      <th>Symptom_8</th>\n",
       "      <th>Symptom_9</th>\n",
       "      <th>Symptom_10</th>\n",
       "      <th>Symptom_11</th>\n",
       "      <th>Symptom_12</th>\n",
       "      <th>Symptom_13</th>\n",
       "      <th>Symptom_14</th>\n",
       "      <th>Symptom_15</th>\n",
       "      <th>Symptom_16</th>\n",
       "      <th>Symptom_17</th>\n",
       "    </tr>\n",
       "  </thead>\n",
       "  <tbody>\n",
       "    <tr>\n",
       "      <th>0</th>\n",
       "      <td>Fungal infection</td>\n",
       "      <td>itching</td>\n",
       "      <td>skin_rash</td>\n",
       "      <td>nodal_skin_eruptions</td>\n",
       "      <td>dischromic _patches</td>\n",
       "      <td>NaN</td>\n",
       "      <td>NaN</td>\n",
       "      <td>NaN</td>\n",
       "      <td>NaN</td>\n",
       "      <td>NaN</td>\n",
       "      <td>NaN</td>\n",
       "      <td>NaN</td>\n",
       "      <td>NaN</td>\n",
       "      <td>NaN</td>\n",
       "      <td>NaN</td>\n",
       "      <td>NaN</td>\n",
       "      <td>NaN</td>\n",
       "      <td>NaN</td>\n",
       "    </tr>\n",
       "    <tr>\n",
       "      <th>1</th>\n",
       "      <td>Fungal infection</td>\n",
       "      <td>skin_rash</td>\n",
       "      <td>nodal_skin_eruptions</td>\n",
       "      <td>dischromic _patches</td>\n",
       "      <td>NaN</td>\n",
       "      <td>NaN</td>\n",
       "      <td>NaN</td>\n",
       "      <td>NaN</td>\n",
       "      <td>NaN</td>\n",
       "      <td>NaN</td>\n",
       "      <td>NaN</td>\n",
       "      <td>NaN</td>\n",
       "      <td>NaN</td>\n",
       "      <td>NaN</td>\n",
       "      <td>NaN</td>\n",
       "      <td>NaN</td>\n",
       "      <td>NaN</td>\n",
       "      <td>NaN</td>\n",
       "    </tr>\n",
       "    <tr>\n",
       "      <th>2</th>\n",
       "      <td>Fungal infection</td>\n",
       "      <td>itching</td>\n",
       "      <td>nodal_skin_eruptions</td>\n",
       "      <td>dischromic _patches</td>\n",
       "      <td>NaN</td>\n",
       "      <td>NaN</td>\n",
       "      <td>NaN</td>\n",
       "      <td>NaN</td>\n",
       "      <td>NaN</td>\n",
       "      <td>NaN</td>\n",
       "      <td>NaN</td>\n",
       "      <td>NaN</td>\n",
       "      <td>NaN</td>\n",
       "      <td>NaN</td>\n",
       "      <td>NaN</td>\n",
       "      <td>NaN</td>\n",
       "      <td>NaN</td>\n",
       "      <td>NaN</td>\n",
       "    </tr>\n",
       "    <tr>\n",
       "      <th>3</th>\n",
       "      <td>Fungal infection</td>\n",
       "      <td>itching</td>\n",
       "      <td>skin_rash</td>\n",
       "      <td>dischromic _patches</td>\n",
       "      <td>NaN</td>\n",
       "      <td>NaN</td>\n",
       "      <td>NaN</td>\n",
       "      <td>NaN</td>\n",
       "      <td>NaN</td>\n",
       "      <td>NaN</td>\n",
       "      <td>NaN</td>\n",
       "      <td>NaN</td>\n",
       "      <td>NaN</td>\n",
       "      <td>NaN</td>\n",
       "      <td>NaN</td>\n",
       "      <td>NaN</td>\n",
       "      <td>NaN</td>\n",
       "      <td>NaN</td>\n",
       "    </tr>\n",
       "    <tr>\n",
       "      <th>4</th>\n",
       "      <td>Fungal infection</td>\n",
       "      <td>itching</td>\n",
       "      <td>skin_rash</td>\n",
       "      <td>nodal_skin_eruptions</td>\n",
       "      <td>NaN</td>\n",
       "      <td>NaN</td>\n",
       "      <td>NaN</td>\n",
       "      <td>NaN</td>\n",
       "      <td>NaN</td>\n",
       "      <td>NaN</td>\n",
       "      <td>NaN</td>\n",
       "      <td>NaN</td>\n",
       "      <td>NaN</td>\n",
       "      <td>NaN</td>\n",
       "      <td>NaN</td>\n",
       "      <td>NaN</td>\n",
       "      <td>NaN</td>\n",
       "      <td>NaN</td>\n",
       "    </tr>\n",
       "  </tbody>\n",
       "</table>\n",
       "</div>"
      ],
      "text/plain": [
       "            Disease   Symptom_1              Symptom_2              Symptom_3  \\\n",
       "0  Fungal infection     itching              skin_rash   nodal_skin_eruptions   \n",
       "1  Fungal infection   skin_rash   nodal_skin_eruptions    dischromic _patches   \n",
       "2  Fungal infection     itching   nodal_skin_eruptions    dischromic _patches   \n",
       "3  Fungal infection     itching              skin_rash    dischromic _patches   \n",
       "4  Fungal infection     itching              skin_rash   nodal_skin_eruptions   \n",
       "\n",
       "              Symptom_4 Symptom_5 Symptom_6 Symptom_7 Symptom_8 Symptom_9  \\\n",
       "0   dischromic _patches       NaN       NaN       NaN       NaN       NaN   \n",
       "1                   NaN       NaN       NaN       NaN       NaN       NaN   \n",
       "2                   NaN       NaN       NaN       NaN       NaN       NaN   \n",
       "3                   NaN       NaN       NaN       NaN       NaN       NaN   \n",
       "4                   NaN       NaN       NaN       NaN       NaN       NaN   \n",
       "\n",
       "  Symptom_10 Symptom_11 Symptom_12 Symptom_13 Symptom_14 Symptom_15  \\\n",
       "0        NaN        NaN        NaN        NaN        NaN        NaN   \n",
       "1        NaN        NaN        NaN        NaN        NaN        NaN   \n",
       "2        NaN        NaN        NaN        NaN        NaN        NaN   \n",
       "3        NaN        NaN        NaN        NaN        NaN        NaN   \n",
       "4        NaN        NaN        NaN        NaN        NaN        NaN   \n",
       "\n",
       "  Symptom_16 Symptom_17  \n",
       "0        NaN        NaN  \n",
       "1        NaN        NaN  \n",
       "2        NaN        NaN  \n",
       "3        NaN        NaN  \n",
       "4        NaN        NaN  "
      ]
     },
     "execution_count": 3,
     "metadata": {},
     "output_type": "execute_result"
    }
   ],
   "source": [
    "df = pd.read_csv('dataset.csv')\n",
    "df.head()"
   ]
  },
  {
   "cell_type": "code",
   "execution_count": 4,
   "metadata": {},
   "outputs": [
    {
     "data": {
      "text/plain": [
       "(4920, 18)"
      ]
     },
     "execution_count": 4,
     "metadata": {},
     "output_type": "execute_result"
    }
   ],
   "source": [
    "df.shape"
   ]
  },
  {
   "cell_type": "code",
   "execution_count": 5,
   "metadata": {},
   "outputs": [],
   "source": [
    "for j in range(df.shape[0]):\n",
    "    for i in df.iloc[j,1:]:\n",
    "        if pd.isna(i):\n",
    "            continue\n",
    "            "
   ]
  },
  {
   "cell_type": "code",
   "execution_count": 6,
   "metadata": {},
   "outputs": [
    {
     "name": "stdout",
     "output_type": "stream",
     "text": [
      "itching\n",
      " skin_rash\n",
      " nodal_skin_eruptions\n",
      " dischromic _patches\n"
     ]
    }
   ],
   "source": [
    "for i in df.iloc[0,1:]:\n",
    "    if pd.isna(i):\n",
    "        continue\n",
    "    else:\n",
    "        print(i)"
   ]
  },
  {
   "cell_type": "code",
   "execution_count": 7,
   "metadata": {},
   "outputs": [
    {
     "name": "stdout",
     "output_type": "stream",
     "text": [
      "[' fatigue', ' vomiting', ' high_fever', ' loss_of_appetite', ' nausea', ' headache', ' abdominal_pain', ' yellowish_skin', ' yellowing_of_eyes', ' chills']\n"
     ]
    }
   ],
   "source": [
    "freq = {}\n",
    "for j in range(df.shape[0]):\n",
    "    for i in df.iloc[j,1:]:\n",
    "        if pd.isna(i):\n",
    "            continue\n",
    "        if i not in freq:\n",
    "            freq[i] = 1\n",
    "        else:\n",
    "            freq[i] += 1\n",
    "sort = dict(sorted(freq.items(),key=operator.itemgetter(1),reverse=True))\n",
    "temp = list(dict(list(sort.items())[:10]).keys())\n",
    "print(temp)"
   ]
  },
  {
   "cell_type": "code",
   "execution_count": 8,
   "metadata": {},
   "outputs": [],
   "source": [
    "symp = []\n",
    "for j in range(df.shape[0]):\n",
    "    for i in df.iloc[j,1:]:\n",
    "        if pd.isna(i):\n",
    "            continue\n",
    "        if i not in symp:\n",
    "            symp.append(i)"
   ]
  },
  {
   "cell_type": "code",
   "execution_count": 9,
   "metadata": {},
   "outputs": [
    {
     "data": {
      "text/plain": [
       "41"
      ]
     },
     "execution_count": 9,
     "metadata": {},
     "output_type": "execute_result"
    }
   ],
   "source": [
    "diseases = []\n",
    "for i in df['Disease']:\n",
    "    if i not in diseases:\n",
    "        diseases.append(i)\n",
    "len(diseases)"
   ]
  },
  {
   "cell_type": "code",
   "execution_count": 10,
   "metadata": {},
   "outputs": [
    {
     "data": {
      "text/plain": [
       "{'itching': 0,\n",
       " ' skin_rash': 1,\n",
       " ' nodal_skin_eruptions': 2,\n",
       " ' dischromic _patches': 3,\n",
       " ' continuous_sneezing': 4,\n",
       " ' shivering': 5,\n",
       " ' chills': 6,\n",
       " ' watering_from_eyes': 7,\n",
       " ' stomach_pain': 8,\n",
       " ' acidity': 9,\n",
       " ' ulcers_on_tongue': 10,\n",
       " ' vomiting': 11,\n",
       " ' cough': 12,\n",
       " ' chest_pain': 13,\n",
       " ' yellowish_skin': 14,\n",
       " ' nausea': 15,\n",
       " ' loss_of_appetite': 16,\n",
       " ' abdominal_pain': 17,\n",
       " ' yellowing_of_eyes': 18,\n",
       " ' burning_micturition': 19,\n",
       " ' spotting_ urination': 20,\n",
       " ' passage_of_gases': 21,\n",
       " ' internal_itching': 22,\n",
       " ' indigestion': 23,\n",
       " ' muscle_wasting': 24,\n",
       " ' patches_in_throat': 25,\n",
       " ' high_fever': 26,\n",
       " ' extra_marital_contacts': 27,\n",
       " ' fatigue': 28,\n",
       " ' weight_loss': 29,\n",
       " ' restlessness': 30,\n",
       " ' lethargy': 31,\n",
       " ' irregular_sugar_level': 32,\n",
       " ' blurred_and_distorted_vision': 33,\n",
       " ' obesity': 34,\n",
       " ' excessive_hunger': 35,\n",
       " ' increased_appetite': 36,\n",
       " ' polyuria': 37,\n",
       " ' sunken_eyes': 38,\n",
       " ' dehydration': 39,\n",
       " ' diarrhoea': 40,\n",
       " ' breathlessness': 41,\n",
       " ' family_history': 42,\n",
       " ' mucoid_sputum': 43,\n",
       " ' headache': 44,\n",
       " ' dizziness': 45,\n",
       " ' loss_of_balance': 46,\n",
       " ' lack_of_concentration': 47,\n",
       " ' stiff_neck': 48,\n",
       " ' depression': 49,\n",
       " ' irritability': 50,\n",
       " ' visual_disturbances': 51,\n",
       " ' back_pain': 52,\n",
       " ' weakness_in_limbs': 53,\n",
       " ' neck_pain': 54,\n",
       " ' weakness_of_one_body_side': 55,\n",
       " ' altered_sensorium': 56,\n",
       " ' dark_urine': 57,\n",
       " ' sweating': 58,\n",
       " ' muscle_pain': 59,\n",
       " ' mild_fever': 60,\n",
       " ' swelled_lymph_nodes': 61,\n",
       " ' malaise': 62,\n",
       " ' red_spots_over_body': 63,\n",
       " ' joint_pain': 64,\n",
       " ' pain_behind_the_eyes': 65,\n",
       " ' constipation': 66,\n",
       " ' toxic_look_(typhos)': 67,\n",
       " ' belly_pain': 68,\n",
       " ' yellow_urine': 69,\n",
       " ' receiving_blood_transfusion': 70,\n",
       " ' receiving_unsterile_injections': 71,\n",
       " ' coma': 72,\n",
       " ' stomach_bleeding': 73,\n",
       " ' acute_liver_failure': 74,\n",
       " ' swelling_of_stomach': 75,\n",
       " ' distention_of_abdomen': 76,\n",
       " ' history_of_alcohol_consumption': 77,\n",
       " ' fluid_overload': 78,\n",
       " ' phlegm': 79,\n",
       " ' blood_in_sputum': 80,\n",
       " ' throat_irritation': 81,\n",
       " ' redness_of_eyes': 82,\n",
       " ' sinus_pressure': 83,\n",
       " ' runny_nose': 84,\n",
       " ' congestion': 85,\n",
       " ' loss_of_smell': 86,\n",
       " ' fast_heart_rate': 87,\n",
       " ' rusty_sputum': 88,\n",
       " ' pain_during_bowel_movements': 89,\n",
       " ' pain_in_anal_region': 90,\n",
       " ' bloody_stool': 91,\n",
       " ' irritation_in_anus': 92,\n",
       " ' cramps': 93,\n",
       " ' bruising': 94,\n",
       " ' swollen_legs': 95,\n",
       " ' swollen_blood_vessels': 96,\n",
       " ' prominent_veins_on_calf': 97,\n",
       " ' weight_gain': 98,\n",
       " ' cold_hands_and_feets': 99,\n",
       " ' mood_swings': 100,\n",
       " ' puffy_face_and_eyes': 101,\n",
       " ' enlarged_thyroid': 102,\n",
       " ' brittle_nails': 103,\n",
       " ' swollen_extremeties': 104,\n",
       " ' abnormal_menstruation': 105,\n",
       " ' muscle_weakness': 106,\n",
       " ' anxiety': 107,\n",
       " ' slurred_speech': 108,\n",
       " ' palpitations': 109,\n",
       " ' drying_and_tingling_lips': 110,\n",
       " ' knee_pain': 111,\n",
       " ' hip_joint_pain': 112,\n",
       " ' swelling_joints': 113,\n",
       " ' painful_walking': 114,\n",
       " ' movement_stiffness': 115,\n",
       " ' spinning_movements': 116,\n",
       " ' unsteadiness': 117,\n",
       " ' pus_filled_pimples': 118,\n",
       " ' blackheads': 119,\n",
       " ' scurring': 120,\n",
       " ' bladder_discomfort': 121,\n",
       " ' foul_smell_of urine': 122,\n",
       " ' continuous_feel_of_urine': 123,\n",
       " ' skin_peeling': 124,\n",
       " ' silver_like_dusting': 125,\n",
       " ' small_dents_in_nails': 126,\n",
       " ' inflammatory_nails': 127,\n",
       " ' blister': 128,\n",
       " ' red_sore_around_nose': 129,\n",
       " ' yellow_crust_ooze': 130}"
      ]
     },
     "execution_count": 10,
     "metadata": {},
     "output_type": "execute_result"
    }
   ],
   "source": [
    "dis = {}\n",
    "for n, i in enumerate(symp):\n",
    "    dis[i] = n\n",
    "dis"
   ]
  },
  {
   "cell_type": "code",
   "execution_count": 11,
   "metadata": {},
   "outputs": [],
   "source": [
    "X = []\n",
    "dis = {}\n",
    "for n, i in enumerate(symp):\n",
    "    dis[i] = n\n",
    "for j in range(df.shape[0]):\n",
    "    temp = []\n",
    "    for i in df.iloc[j,1:]:\n",
    "        if pd.isna(i):\n",
    "            continue\n",
    "        else:\n",
    "            temp.append(i)\n",
    "    vector = [0] * len(symp)\n",
    "    for i in temp:\n",
    "        vector[dis[i]] = 1\n",
    "    X.append(vector)\n",
    "X = np.asarray(X)"
   ]
  },
  {
   "cell_type": "code",
   "execution_count": 12,
   "metadata": {},
   "outputs": [
    {
     "data": {
      "text/plain": [
       "4920"
      ]
     },
     "execution_count": 12,
     "metadata": {},
     "output_type": "execute_result"
    }
   ],
   "source": [
    "y = []\n",
    "for n, i in enumerate(diseases):\n",
    "    dis[i] = n\n",
    "for i, n in enumerate(df['Disease']):\n",
    "    y.append(dis[n])\n",
    "len(y)"
   ]
  },
  {
   "cell_type": "code",
   "execution_count": 13,
   "metadata": {},
   "outputs": [],
   "source": [
    "X_train, X_test, y_train, y_test = train_test_split(X, y, test_size = 0.30)"
   ]
  },
  {
   "cell_type": "code",
   "execution_count": 14,
   "metadata": {},
   "outputs": [
    {
     "name": "stdout",
     "output_type": "stream",
     "text": [
      "\n",
      "ACCURACY OF THE MODEL:  1.0\n"
     ]
    }
   ],
   "source": [
    "from sklearn.ensemble import RandomForestClassifier\n",
    "clf = RandomForestClassifier(n_estimators = 10)  \n",
    "\n",
    "clf.fit(X_train, y_train)\n",
    "y_pred = clf.predict(X_test)\n",
    "\n",
    "from sklearn import metrics  \n",
    "print()\n",
    "\n",
    "print(\"ACCURACY OF THE MODEL: \", metrics.accuracy_score(y_test, y_pred))"
   ]
  },
  {
   "cell_type": "code",
   "execution_count": 15,
   "metadata": {},
   "outputs": [
    {
     "name": "stdout",
     "output_type": "stream",
     "text": [
      "Number of mislabeled points out of a total 1476 points : 0\n"
     ]
    }
   ],
   "source": [
    "from sklearn.naive_bayes import GaussianNB\n",
    "\n",
    "GNB = GaussianNB()\n",
    "y_pred = GNB.fit(X_train, y_train).predict(X_test)\n",
    "print(\"Number of mislabeled points out of a total %d points : %d\" % (X_test.shape[0], (y_test != y_pred).sum()))"
   ]
  },
  {
   "cell_type": "code",
   "execution_count": 17,
   "metadata": {},
   "outputs": [],
   "source": [
    "y = []\n",
    "dis = {}\n",
    "for n, i in enumerate(diseases):\n",
    "    dis[i] = n\n",
    "for i in df['Disease']:\n",
    "    vector = [0] * len(diseases)\n",
    "    vector[dis[i]] = 1\n",
    "    y.append(vector)\n",
    "y = np.asarray(y)"
   ]
  },
  {
   "cell_type": "code",
   "execution_count": 18,
   "metadata": {},
   "outputs": [
    {
     "data": {
      "text/plain": [
       "{'Fungal infection': 120,\n",
       " 'Allergy': 120,\n",
       " 'GERD': 120,\n",
       " 'Chronic cholestasis': 120,\n",
       " 'Drug Reaction': 120,\n",
       " 'Peptic ulcer diseae': 120,\n",
       " 'AIDS': 120,\n",
       " 'Diabetes ': 120,\n",
       " 'Gastroenteritis': 120,\n",
       " 'Bronchial Asthma': 120,\n",
       " 'Hypertension ': 120,\n",
       " 'Migraine': 120,\n",
       " 'Cervical spondylosis': 120,\n",
       " 'Paralysis (brain hemorrhage)': 120,\n",
       " 'Jaundice': 120,\n",
       " 'Malaria': 120,\n",
       " 'Chicken pox': 120,\n",
       " 'Dengue': 120,\n",
       " 'Typhoid': 120,\n",
       " 'hepatitis A': 120,\n",
       " 'Hepatitis B': 120,\n",
       " 'Hepatitis C': 120,\n",
       " 'Hepatitis D': 120,\n",
       " 'Hepatitis E': 120,\n",
       " 'Alcoholic hepatitis': 120,\n",
       " 'Tuberculosis': 120,\n",
       " 'Common Cold': 120,\n",
       " 'Pneumonia': 120,\n",
       " 'Dimorphic hemmorhoids(piles)': 120,\n",
       " 'Heart attack': 120,\n",
       " 'Varicose veins': 120,\n",
       " 'Hypothyroidism': 120,\n",
       " 'Hyperthyroidism': 120,\n",
       " 'Hypoglycemia': 120,\n",
       " 'Osteoarthristis': 120,\n",
       " 'Arthritis': 120,\n",
       " '(vertigo) Paroymsal  Positional Vertigo': 120,\n",
       " 'Acne': 120,\n",
       " 'Urinary tract infection': 120,\n",
       " 'Psoriasis': 120,\n",
       " 'Impetigo': 120}"
      ]
     },
     "execution_count": 18,
     "metadata": {},
     "output_type": "execute_result"
    }
   ],
   "source": [
    "freq = {}\n",
    "for i in df['Disease']:\n",
    "    if i not in freq:\n",
    "        freq[i] = 1\n",
    "    else:\n",
    "        freq[i] += 1\n",
    "freq"
   ]
  },
  {
   "cell_type": "code",
   "execution_count": 19,
   "metadata": {},
   "outputs": [
    {
     "data": {
      "text/plain": [
       "array([[1, 0, 0, ..., 0, 0, 0],\n",
       "       [1, 0, 0, ..., 0, 0, 0],\n",
       "       [1, 0, 0, ..., 0, 0, 0],\n",
       "       ...,\n",
       "       [0, 0, 0, ..., 1, 0, 0],\n",
       "       [0, 0, 0, ..., 0, 1, 0],\n",
       "       [0, 0, 0, ..., 0, 0, 1]])"
      ]
     },
     "execution_count": 19,
     "metadata": {},
     "output_type": "execute_result"
    }
   ],
   "source": [
    "y"
   ]
  },
  {
   "cell_type": "code",
   "execution_count": 20,
   "metadata": {},
   "outputs": [
    {
     "data": {
      "text/plain": [
       "4"
      ]
     },
     "execution_count": 20,
     "metadata": {},
     "output_type": "execute_result"
    }
   ],
   "source": [
    "count = 0\n",
    "for i in X[0]:\n",
    "    if i == 1:\n",
    "        count += 1\n",
    "count"
   ]
  },
  {
   "cell_type": "code",
   "execution_count": 31,
   "metadata": {},
   "outputs": [
    {
     "name": "stdout",
     "output_type": "stream",
     "text": [
      "Epoch 0, Loss: 3.713451385498047\n",
      "Epoch 10, Loss: 3.5938525199890137\n",
      "Epoch 20, Loss: 3.3175458908081055\n",
      "Epoch 30, Loss: 3.0817441940307617\n",
      "Epoch 40, Loss: 2.916876792907715\n",
      "Epoch 50, Loss: 2.868278741836548\n",
      "Epoch 60, Loss: 2.859161138534546\n",
      "Epoch 70, Loss: 2.8555705547332764\n",
      "Epoch 80, Loss: 2.8544228076934814\n",
      "Epoch 90, Loss: 2.8531224727630615\n"
     ]
    }
   ],
   "source": [
    "# device = torch.device(\"mps\")\n",
    "\n",
    "class ChatBotModel(nn.Module):\n",
    "    def __init__(self, input_size, hidden_size, output_size):\n",
    "        super(ChatBotModel, self).__init__()\n",
    "        self.fc1 = nn.Linear(input_size, hidden_size)\n",
    "        self.relu1 = nn.Dropout(0.5)\n",
    "        self.fc2 = nn.Linear(hidden_size, 128)\n",
    "        self.relu2 = nn.Dropout(0.5)\n",
    "        self.fc3 = nn.Linear(128, output_size)\n",
    "        self.softmax = nn.Softmax(dim=1)\n",
    "\n",
    "    def forward(self, x):\n",
    "        x = torch.relu(self.fc1(x))\n",
    "        x = self.relu1(x)\n",
    "        x = torch.relu(self.fc2(x))\n",
    "        x = self.relu2(x)\n",
    "        x = self.fc3(x)\n",
    "        x = self.softmax(x)\n",
    "        return x\n",
    "\n",
    "input_size = len(X[0])\n",
    "hidden_size = 128\n",
    "output_size = len(y[0])\n",
    "model = ChatBotModel(input_size, hidden_size, output_size)\n",
    "\n",
    "criterion = nn.CrossEntropyLoss()\n",
    "optimizer = optim.Adam(model.parameters(), lr = 0.005)\n",
    "\n",
    "xtrain, xtest, ytrain, ytest = train_test_split(X, y, train_size = 0.8)\n",
    "\n",
    "train_x = torch.Tensor(xtrain)\n",
    "train_y = torch.Tensor([np.argmax(y) for y in ytrain])\n",
    "\n",
    "num_epochs = 100\n",
    "\n",
    "for epoch in range(num_epochs):\n",
    "    batch_x = train_x\n",
    "    batch_y = train_y\n",
    "    optimizer.zero_grad()\n",
    "    outputs = model(batch_x)\n",
    "\n",
    "    loss = criterion(outputs, batch_y.long())\n",
    "    loss.backward()\n",
    "    optimizer.step()\n",
    "\n",
    "    if epoch % 10 == 0:\n",
    "        print(f'Epoch {epoch}, Loss: {loss.item()}')\n",
    "\n",
    "torch.save(model.state_dict(), 'chatbotmodelnew.pth')\n"
   ]
  },
  {
   "cell_type": "code",
   "execution_count": 22,
   "metadata": {},
   "outputs": [
    {
     "data": {
      "text/plain": [
       "(984, 131)"
      ]
     },
     "execution_count": 22,
     "metadata": {},
     "output_type": "execute_result"
    }
   ],
   "source": [
    "xtest.shape"
   ]
  },
  {
   "cell_type": "code",
   "execution_count": 23,
   "metadata": {},
   "outputs": [],
   "source": [
    "class ChatBotModel(nn.Module):\n",
    "    def __init__(self, input_size, hidden_size, output_size):\n",
    "        super(ChatBotModel, self).__init__()\n",
    "        self.fc1 = nn.Linear(input_size, hidden_size)\n",
    "        self.relu1 = nn.Dropout(0.5)\n",
    "        self.fc2 = nn.Linear(hidden_size, 128)\n",
    "        self.relu2 = nn.Dropout(0.5)\n",
    "        self.fc3 = nn.Linear(128, output_size)\n",
    "        self.softmax = nn.Softmax(dim=1)\n",
    "\n",
    "    def forward(self, x):\n",
    "        x = torch.relu(self.fc1(x))\n",
    "        x = self.relu1(x)\n",
    "        x = torch.relu(self.fc2(x))\n",
    "        x = self.relu2(x)\n",
    "        x = self.fc3(x)\n",
    "        x = self.softmax(x)\n",
    "        return x"
   ]
  },
  {
   "cell_type": "code",
   "execution_count": 24,
   "metadata": {},
   "outputs": [
    {
     "data": {
      "text/plain": [
       "<All keys matched successfully>"
      ]
     },
     "execution_count": 24,
     "metadata": {},
     "output_type": "execute_result"
    }
   ],
   "source": [
    "input_size = len(X[0])\n",
    "hidden_size = 128\n",
    "output_size = len(y[0])\n",
    "model = ChatBotModel(input_size, hidden_size, output_size)\n",
    "model.load_state_dict(torch.load('chatbotmodelnew.pth'))"
   ]
  },
  {
   "cell_type": "code",
   "execution_count": 29,
   "metadata": {},
   "outputs": [
    {
     "ename": "RuntimeError",
     "evalue": "Failed to run torchgraph see error message",
     "output_type": "error",
     "traceback": [
      "\u001b[1;31m---------------------------------------------------------------------------\u001b[0m",
      "\u001b[1;31mIndexError\u001b[0m                                Traceback (most recent call last)",
      "File \u001b[1;32m~\\AppData\\Local\\Packages\\PythonSoftwareFoundation.Python.3.10_qbz5n2kfra8p0\\LocalCache\\local-packages\\Python310\\site-packages\\torchview\\torchview.py:256\u001b[0m, in \u001b[0;36mforward_prop\u001b[1;34m(model, x, device, model_graph, mode, **kwargs)\u001b[0m\n\u001b[0;32m    255\u001b[0m \u001b[39mif\u001b[39;00m \u001b[39misinstance\u001b[39m(x, (\u001b[39mlist\u001b[39m, \u001b[39mtuple\u001b[39m)):\n\u001b[1;32m--> 256\u001b[0m     _ \u001b[39m=\u001b[39m model\u001b[39m.\u001b[39mto(device)(\u001b[39m*\u001b[39mx, \u001b[39m*\u001b[39m\u001b[39m*\u001b[39mkwargs)\n\u001b[0;32m    257\u001b[0m \u001b[39melif\u001b[39;00m \u001b[39misinstance\u001b[39m(x, Mapping):\n",
      "File \u001b[1;32m~\\AppData\\Local\\Packages\\PythonSoftwareFoundation.Python.3.10_qbz5n2kfra8p0\\LocalCache\\local-packages\\Python310\\site-packages\\torchview\\recorder_tensor.py:146\u001b[0m, in \u001b[0;36mmodule_forward_wrapper.<locals>._module_forward_wrapper\u001b[1;34m(mod, *args, **kwargs)\u001b[0m\n\u001b[0;32m    144\u001b[0m \u001b[39m# TODO: check if output contains RecorderTensor\u001b[39;00m\n\u001b[0;32m    145\u001b[0m \u001b[39m# this seems not to be necessary so far\u001b[39;00m\n\u001b[1;32m--> 146\u001b[0m out \u001b[39m=\u001b[39m _orig_module_forward(mod, \u001b[39m*\u001b[39margs, \u001b[39m*\u001b[39m\u001b[39m*\u001b[39mkwargs)\n\u001b[0;32m    148\u001b[0m model_graph\u001b[39m.\u001b[39mcontext_tracker[\u001b[39m'\u001b[39m\u001b[39mcurrent_depth\u001b[39m\u001b[39m'\u001b[39m] \u001b[39m=\u001b[39m cur_depth\n",
      "File \u001b[1;32m~\\AppData\\Local\\Packages\\PythonSoftwareFoundation.Python.3.10_qbz5n2kfra8p0\\LocalCache\\local-packages\\Python310\\site-packages\\torch\\nn\\modules\\module.py:1194\u001b[0m, in \u001b[0;36mModule._call_impl\u001b[1;34m(self, *input, **kwargs)\u001b[0m\n\u001b[0;32m   1192\u001b[0m \u001b[39mif\u001b[39;00m \u001b[39mnot\u001b[39;00m (\u001b[39mself\u001b[39m\u001b[39m.\u001b[39m_backward_hooks \u001b[39mor\u001b[39;00m \u001b[39mself\u001b[39m\u001b[39m.\u001b[39m_forward_hooks \u001b[39mor\u001b[39;00m \u001b[39mself\u001b[39m\u001b[39m.\u001b[39m_forward_pre_hooks \u001b[39mor\u001b[39;00m _global_backward_hooks\n\u001b[0;32m   1193\u001b[0m         \u001b[39mor\u001b[39;00m _global_forward_hooks \u001b[39mor\u001b[39;00m _global_forward_pre_hooks):\n\u001b[1;32m-> 1194\u001b[0m     \u001b[39mreturn\u001b[39;00m forward_call(\u001b[39m*\u001b[39m\u001b[39minput\u001b[39m, \u001b[39m*\u001b[39m\u001b[39m*\u001b[39mkwargs)\n\u001b[0;32m   1195\u001b[0m \u001b[39m# Do not call functions when jit is used\u001b[39;00m\n",
      "Cell \u001b[1;32mIn[23], line 17\u001b[0m, in \u001b[0;36mChatBotModel.forward\u001b[1;34m(self, x)\u001b[0m\n\u001b[0;32m     16\u001b[0m x \u001b[39m=\u001b[39m \u001b[39mself\u001b[39m\u001b[39m.\u001b[39mfc3(x)\n\u001b[1;32m---> 17\u001b[0m x \u001b[39m=\u001b[39m \u001b[39mself\u001b[39;49m\u001b[39m.\u001b[39;49msoftmax(x)\n\u001b[0;32m     18\u001b[0m \u001b[39mreturn\u001b[39;00m x\n",
      "File \u001b[1;32m~\\AppData\\Local\\Packages\\PythonSoftwareFoundation.Python.3.10_qbz5n2kfra8p0\\LocalCache\\local-packages\\Python310\\site-packages\\torchview\\recorder_tensor.py:146\u001b[0m, in \u001b[0;36mmodule_forward_wrapper.<locals>._module_forward_wrapper\u001b[1;34m(mod, *args, **kwargs)\u001b[0m\n\u001b[0;32m    144\u001b[0m \u001b[39m# TODO: check if output contains RecorderTensor\u001b[39;00m\n\u001b[0;32m    145\u001b[0m \u001b[39m# this seems not to be necessary so far\u001b[39;00m\n\u001b[1;32m--> 146\u001b[0m out \u001b[39m=\u001b[39m _orig_module_forward(mod, \u001b[39m*\u001b[39margs, \u001b[39m*\u001b[39m\u001b[39m*\u001b[39mkwargs)\n\u001b[0;32m    148\u001b[0m model_graph\u001b[39m.\u001b[39mcontext_tracker[\u001b[39m'\u001b[39m\u001b[39mcurrent_depth\u001b[39m\u001b[39m'\u001b[39m] \u001b[39m=\u001b[39m cur_depth\n",
      "File \u001b[1;32m~\\AppData\\Local\\Packages\\PythonSoftwareFoundation.Python.3.10_qbz5n2kfra8p0\\LocalCache\\local-packages\\Python310\\site-packages\\torch\\nn\\modules\\module.py:1194\u001b[0m, in \u001b[0;36mModule._call_impl\u001b[1;34m(self, *input, **kwargs)\u001b[0m\n\u001b[0;32m   1192\u001b[0m \u001b[39mif\u001b[39;00m \u001b[39mnot\u001b[39;00m (\u001b[39mself\u001b[39m\u001b[39m.\u001b[39m_backward_hooks \u001b[39mor\u001b[39;00m \u001b[39mself\u001b[39m\u001b[39m.\u001b[39m_forward_hooks \u001b[39mor\u001b[39;00m \u001b[39mself\u001b[39m\u001b[39m.\u001b[39m_forward_pre_hooks \u001b[39mor\u001b[39;00m _global_backward_hooks\n\u001b[0;32m   1193\u001b[0m         \u001b[39mor\u001b[39;00m _global_forward_hooks \u001b[39mor\u001b[39;00m _global_forward_pre_hooks):\n\u001b[1;32m-> 1194\u001b[0m     \u001b[39mreturn\u001b[39;00m forward_call(\u001b[39m*\u001b[39m\u001b[39minput\u001b[39m, \u001b[39m*\u001b[39m\u001b[39m*\u001b[39mkwargs)\n\u001b[0;32m   1195\u001b[0m \u001b[39m# Do not call functions when jit is used\u001b[39;00m\n",
      "File \u001b[1;32m~\\AppData\\Local\\Packages\\PythonSoftwareFoundation.Python.3.10_qbz5n2kfra8p0\\LocalCache\\local-packages\\Python310\\site-packages\\torch\\nn\\modules\\activation.py:1390\u001b[0m, in \u001b[0;36mSoftmax.forward\u001b[1;34m(self, input)\u001b[0m\n\u001b[0;32m   1389\u001b[0m \u001b[39mdef\u001b[39;00m \u001b[39mforward\u001b[39m(\u001b[39mself\u001b[39m, \u001b[39minput\u001b[39m: Tensor) \u001b[39m-\u001b[39m\u001b[39m>\u001b[39m Tensor:\n\u001b[1;32m-> 1390\u001b[0m     \u001b[39mreturn\u001b[39;00m F\u001b[39m.\u001b[39;49msoftmax(\u001b[39minput\u001b[39;49m, \u001b[39mself\u001b[39;49m\u001b[39m.\u001b[39;49mdim, _stacklevel\u001b[39m=\u001b[39;49m\u001b[39m5\u001b[39;49m)\n",
      "File \u001b[1;32m~\\AppData\\Local\\Packages\\PythonSoftwareFoundation.Python.3.10_qbz5n2kfra8p0\\LocalCache\\local-packages\\Python310\\site-packages\\torch\\nn\\functional.py:1837\u001b[0m, in \u001b[0;36msoftmax\u001b[1;34m(input, dim, _stacklevel, dtype)\u001b[0m\n\u001b[0;32m   1836\u001b[0m \u001b[39mif\u001b[39;00m has_torch_function_unary(\u001b[39minput\u001b[39m):\n\u001b[1;32m-> 1837\u001b[0m     \u001b[39mreturn\u001b[39;00m handle_torch_function(softmax, (\u001b[39minput\u001b[39;49m,), \u001b[39minput\u001b[39;49m, dim\u001b[39m=\u001b[39;49mdim, _stacklevel\u001b[39m=\u001b[39;49m_stacklevel, dtype\u001b[39m=\u001b[39;49mdtype)\n\u001b[0;32m   1838\u001b[0m \u001b[39mif\u001b[39;00m dim \u001b[39mis\u001b[39;00m \u001b[39mNone\u001b[39;00m:\n",
      "File \u001b[1;32m~\\AppData\\Local\\Packages\\PythonSoftwareFoundation.Python.3.10_qbz5n2kfra8p0\\LocalCache\\local-packages\\Python310\\site-packages\\torch\\overrides.py:1534\u001b[0m, in \u001b[0;36mhandle_torch_function\u001b[1;34m(public_api, relevant_args, *args, **kwargs)\u001b[0m\n\u001b[0;32m   1532\u001b[0m \u001b[39m# Use `public_api` instead of `implementation` so __torch_function__\u001b[39;00m\n\u001b[0;32m   1533\u001b[0m \u001b[39m# implementations can do equality/identity comparisons.\u001b[39;00m\n\u001b[1;32m-> 1534\u001b[0m result \u001b[39m=\u001b[39m torch_func_method(public_api, types, args, kwargs)\n\u001b[0;32m   1536\u001b[0m \u001b[39mif\u001b[39;00m result \u001b[39mis\u001b[39;00m \u001b[39mnot\u001b[39;00m \u001b[39mNotImplemented\u001b[39m:\n",
      "File \u001b[1;32m~\\AppData\\Local\\Packages\\PythonSoftwareFoundation.Python.3.10_qbz5n2kfra8p0\\LocalCache\\local-packages\\Python310\\site-packages\\torchview\\recorder_tensor.py:241\u001b[0m, in \u001b[0;36mRecorderTensor.__torch_function__\u001b[1;34m(cls, func, types, args, kwargs)\u001b[0m\n\u001b[0;32m    238\u001b[0m \u001b[39melse\u001b[39;00m:\n\u001b[0;32m    239\u001b[0m     \u001b[39m# use original torch_function; otherwise,\u001b[39;00m\n\u001b[0;32m    240\u001b[0m     \u001b[39m# it leads to infinite recursive call of torch_function\u001b[39;00m\n\u001b[1;32m--> 241\u001b[0m     out \u001b[39m=\u001b[39m \u001b[39msuper\u001b[39;49m()\u001b[39m.\u001b[39;49m__torch_function__(func, types, args, kwargs)\n\u001b[0;32m    243\u001b[0m \u001b[39m# if no RecorderTensor is found in input or output\u001b[39;00m\n\u001b[0;32m    244\u001b[0m \u001b[39m# dont create any node, give the result only\u001b[39;00m\n",
      "File \u001b[1;32m~\\AppData\\Local\\Packages\\PythonSoftwareFoundation.Python.3.10_qbz5n2kfra8p0\\LocalCache\\local-packages\\Python310\\site-packages\\torch\\_tensor.py:1279\u001b[0m, in \u001b[0;36mTensor.__torch_function__\u001b[1;34m(cls, func, types, args, kwargs)\u001b[0m\n\u001b[0;32m   1278\u001b[0m \u001b[39mwith\u001b[39;00m _C\u001b[39m.\u001b[39mDisableTorchFunction():\n\u001b[1;32m-> 1279\u001b[0m     ret \u001b[39m=\u001b[39m func(\u001b[39m*\u001b[39margs, \u001b[39m*\u001b[39m\u001b[39m*\u001b[39mkwargs)\n\u001b[0;32m   1280\u001b[0m     \u001b[39mif\u001b[39;00m func \u001b[39min\u001b[39;00m get_default_nowrap_functions():\n",
      "File \u001b[1;32m~\\AppData\\Local\\Packages\\PythonSoftwareFoundation.Python.3.10_qbz5n2kfra8p0\\LocalCache\\local-packages\\Python310\\site-packages\\torch\\nn\\functional.py:1841\u001b[0m, in \u001b[0;36msoftmax\u001b[1;34m(input, dim, _stacklevel, dtype)\u001b[0m\n\u001b[0;32m   1840\u001b[0m \u001b[39mif\u001b[39;00m dtype \u001b[39mis\u001b[39;00m \u001b[39mNone\u001b[39;00m:\n\u001b[1;32m-> 1841\u001b[0m     ret \u001b[39m=\u001b[39m \u001b[39minput\u001b[39;49m\u001b[39m.\u001b[39;49msoftmax(dim)\n\u001b[0;32m   1842\u001b[0m \u001b[39melse\u001b[39;00m:\n",
      "\u001b[1;31mIndexError\u001b[0m: Dimension out of range (expected to be in range of [-1, 0], but got 1)",
      "\nThe above exception was the direct cause of the following exception:\n",
      "\u001b[1;31mRuntimeError\u001b[0m                              Traceback (most recent call last)",
      "Cell \u001b[1;32mIn[29], line 3\u001b[0m\n\u001b[0;32m      1\u001b[0m \u001b[39mfrom\u001b[39;00m \u001b[39mtorchview\u001b[39;00m \u001b[39mimport\u001b[39;00m draw_graph\n\u001b[1;32m----> 3\u001b[0m model_graph \u001b[39m=\u001b[39m draw_graph(ChatBotModel(\u001b[39m131\u001b[39;49m, \u001b[39m128\u001b[39;49m, \u001b[39m41\u001b[39;49m), input_size\u001b[39m=\u001b[39;49m(\u001b[39m131\u001b[39;49m,))\n",
      "File \u001b[1;32m~\\AppData\\Local\\Packages\\PythonSoftwareFoundation.Python.3.10_qbz5n2kfra8p0\\LocalCache\\local-packages\\Python310\\site-packages\\torchview\\torchview.py:220\u001b[0m, in \u001b[0;36mdraw_graph\u001b[1;34m(model, input_data, input_size, graph_name, depth, device, dtypes, mode, strict, expand_nested, graph_dir, hide_module_functions, hide_inner_tensors, roll, show_shapes, save_graph, filename, directory, **kwargs)\u001b[0m\n\u001b[0;32m    211\u001b[0m input_recorder_tensor, kwargs_record_tensor, input_nodes \u001b[39m=\u001b[39m process_input(\n\u001b[0;32m    212\u001b[0m     input_data, input_size, kwargs, device, dtypes\n\u001b[0;32m    213\u001b[0m )\n\u001b[0;32m    215\u001b[0m model_graph \u001b[39m=\u001b[39m ComputationGraph(\n\u001b[0;32m    216\u001b[0m     visual_graph, input_nodes, show_shapes, expand_nested,\n\u001b[0;32m    217\u001b[0m     hide_inner_tensors, hide_module_functions, roll, depth\n\u001b[0;32m    218\u001b[0m )\n\u001b[1;32m--> 220\u001b[0m forward_prop(\n\u001b[0;32m    221\u001b[0m     model, input_recorder_tensor, device, model_graph,\n\u001b[0;32m    222\u001b[0m     model_mode, \u001b[39m*\u001b[39m\u001b[39m*\u001b[39mkwargs_record_tensor\n\u001b[0;32m    223\u001b[0m )\n\u001b[0;32m    225\u001b[0m model_graph\u001b[39m.\u001b[39mfill_visual_graph()\n\u001b[0;32m    227\u001b[0m \u001b[39mif\u001b[39;00m save_graph:\n",
      "File \u001b[1;32m~\\AppData\\Local\\Packages\\PythonSoftwareFoundation.Python.3.10_qbz5n2kfra8p0\\LocalCache\\local-packages\\Python310\\site-packages\\torchview\\torchview.py:264\u001b[0m, in \u001b[0;36mforward_prop\u001b[1;34m(model, x, device, model_graph, mode, **kwargs)\u001b[0m\n\u001b[0;32m    262\u001b[0m                 \u001b[39mraise\u001b[39;00m \u001b[39mValueError\u001b[39;00m(\u001b[39m\"\u001b[39m\u001b[39mUnknown input type\u001b[39m\u001b[39m\"\u001b[39m)\n\u001b[0;32m    263\u001b[0m \u001b[39mexcept\u001b[39;00m \u001b[39mException\u001b[39;00m \u001b[39mas\u001b[39;00m e:\n\u001b[1;32m--> 264\u001b[0m     \u001b[39mraise\u001b[39;00m \u001b[39mRuntimeError\u001b[39;00m(\n\u001b[0;32m    265\u001b[0m         \u001b[39m\"\u001b[39m\u001b[39mFailed to run torchgraph see error message\u001b[39m\u001b[39m\"\u001b[39m\n\u001b[0;32m    266\u001b[0m     ) \u001b[39mfrom\u001b[39;00m \u001b[39me\u001b[39;00m\n\u001b[0;32m    267\u001b[0m \u001b[39mfinally\u001b[39;00m:\n\u001b[0;32m    268\u001b[0m     model\u001b[39m.\u001b[39mtrain(saved_model_mode)\n",
      "\u001b[1;31mRuntimeError\u001b[0m: Failed to run torchgraph see error message"
     ]
    }
   ],
   "source": [
    "from torchview import draw_graph\n",
    "\n",
    "model_graph = draw_graph(ChatBotModel(131, 128, 41), input_size=(131,))"
   ]
  },
  {
   "cell_type": "code",
   "execution_count": 30,
   "metadata": {},
   "outputs": [
    {
     "ename": "ValueError",
     "evalue": "source code string cannot contain null bytes",
     "output_type": "error",
     "traceback": [
      "\u001b[1;31m---------------------------------------------------------------------------\u001b[0m",
      "\u001b[1;31mValueError\u001b[0m                                Traceback (most recent call last)",
      "Cell \u001b[1;32mIn[30], line 1\u001b[0m\n\u001b[1;32m----> 1\u001b[0m \u001b[39mfrom\u001b[39;00m \u001b[39mtorchviz\u001b[39;00m \u001b[39mimport\u001b[39;00m make_dot\n\u001b[0;32m      3\u001b[0m model \u001b[39m=\u001b[39m ChatBotModel()\n\u001b[0;32m      4\u001b[0m y \u001b[39m=\u001b[39m model(X)\n",
      "\u001b[1;31mValueError\u001b[0m: source code string cannot contain null bytes"
     ]
    }
   ],
   "source": [
    "from torchviz import make_dot\n",
    "\n",
    "model = ChatBotModel()\n",
    "y = model(X)"
   ]
  },
  {
   "cell_type": "code",
   "execution_count": null,
   "metadata": {},
   "outputs": [],
   "source": [
    "from torchviz import make_dot\n",
    "\n",
    "make_dot(yhat, params=dict(list(model.named_parameters()))).render(\"rnn_torchviz\", format=\"png\")"
   ]
  },
  {
   "cell_type": "code",
   "execution_count": 17,
   "metadata": {},
   "outputs": [],
   "source": [
    "xtrain, xtest, ytrain, ytest = train_test_split(X, y, train_size = 0.8)"
   ]
  },
  {
   "cell_type": "code",
   "execution_count": 32,
   "metadata": {},
   "outputs": [
    {
     "name": "stdout",
     "output_type": "stream",
     "text": [
      "0.8922764227642277\n"
     ]
    }
   ],
   "source": [
    "model.eval()\n",
    "with torch.no_grad():\n",
    "    ypred = model(torch.Tensor(xtest))\n",
    "    acc = 0\n",
    "    for i in range(len(xtest)):\n",
    "        if np.argmax(ypred[i].tolist()) == np.argmax(ytest[i]):\n",
    "            acc += 1\n",
    "    print(acc / len(xtest))\n"
   ]
  },
  {
   "cell_type": "code",
   "execution_count": 39,
   "metadata": {},
   "outputs": [
    {
     "data": {
      "text/plain": [
       "16"
      ]
     },
     "execution_count": 39,
     "metadata": {},
     "output_type": "execute_result"
    }
   ],
   "source": [
    "np.argmax(ypred[i].tolist())"
   ]
  },
  {
   "cell_type": "code",
   "execution_count": null,
   "metadata": {},
   "outputs": [],
   "source": [
    "def get_active_symptoms():\n",
    "    symptoms = []\n",
    "    for j in range(df.shape[0]):\n",
    "        for i in df.iloc[j,1:]:\n",
    "            if pd.isna(i):\n",
    "                continue\n",
    "            if i not in symptoms:\n",
    "                symptoms.append(i)\n",
    "    formatted_symptoms = []\n",
    "    for i in symptoms:\n",
    "        formatted_symptoms.append(i.replace(\"_\", \" \").strip())\n",
    "    dictionary_symptoms = {}\n",
    "    for n, i in enumerate(formatted_symptoms):\n",
    "        dictionary_symptoms[i] = n\n",
    "    vector = [0] * len(formatted_symptoms)\n",
    "    for i in active_symptoms:\n",
    "        vector[dictionary_symptoms[i]] = 1\n",
    "    return vector, dictionary_symptoms"
   ]
  },
  {
   "cell_type": "code",
   "execution_count": null,
   "metadata": {},
   "outputs": [],
   "source": [
    "def diagnosis(vector, dictionary_symptoms):\n",
    "    inverse = {}\n",
    "    for key, value in dictionary_symptoms.items():\n",
    "        inverse[value] = key\n",
    "    model.eval()\n",
    "    with torch.no_grad():\n",
    "        ypred = model(torch.Tensor(torch.Tensor([vector])))\n",
    "        for i in ypred.tolist():\n",
    "            for j in i:\n",
    "                if j > 0.01:\n",
    "                    print(inverse[i.index(j)])"
   ]
  },
  {
   "cell_type": "code",
   "execution_count": 31,
   "metadata": {},
   "outputs": [],
   "source": [
    "x = [' fatigue', ' cough', ' high_fever']\n",
    "x = [' anxiety', ' obesity', ' malaise']\n",
    "dis = {}\n",
    "for n, i in enumerate(symp):\n",
    "    dis[i] = n\n",
    "vector = [0] * len(symp)\n",
    "for i in x:\n",
    "    vector[dis[i]] = 1"
   ]
  },
  {
   "cell_type": "code",
   "execution_count": 35,
   "metadata": {},
   "outputs": [],
   "source": [
    "inverse = {}\n",
    "for key, value in dis.items():\n",
    "    inverse[value] = key"
   ]
  },
  {
   "cell_type": "code",
   "execution_count": null,
   "metadata": {},
   "outputs": [],
   "source": [
    "diseases = []\n",
    "for i in df['Disease']:\n",
    "    if i not in diseases:\n",
    "        diseases.append(i)\n",
    "dictionary = {}\n",
    "for n, i in enumerate(diseases):\n",
    "    dictionary[i] = n"
   ]
  },
  {
   "cell_type": "code",
   "execution_count": 41,
   "metadata": {},
   "outputs": [
    {
     "name": "stdout",
     "output_type": "stream",
     "text": [
      "Hypoglycemia\n",
      "Diabetes \n",
      "Pneumonia\n",
      "Varicose veins\n",
      "Hypoglycemia\n",
      "Osteoarthristis\n"
     ]
    }
   ],
   "source": [
    "tr = model(torch.Tensor([vector]))\n",
    "dictionary = {}\n",
    "for n, i in enumerate(diseases):\n",
    "    dictionary[i] = n\n",
    "print(inverse[np.argmax(tr.tolist())])\n",
    "for i in tr.tolist():\n",
    "    for j in i:\n",
    "        if j > 0.01:\n",
    "            print(inverse[i.index(j)])"
   ]
  },
  {
   "cell_type": "code",
   "execution_count": 43,
   "metadata": {},
   "outputs": [],
   "source": [
    "from sklearn import datasets  \n",
    "iris = datasets.load_iris() \n",
    "X, y = datasets.load_iris( return_X_y = True)"
   ]
  },
  {
   "cell_type": "code",
   "execution_count": 47,
   "metadata": {},
   "outputs": [
    {
     "data": {
      "text/plain": [
       "array([[1, 1, 1, ..., 0, 0, 0],\n",
       "       [0, 1, 1, ..., 0, 0, 0],\n",
       "       [1, 0, 1, ..., 0, 0, 0],\n",
       "       ...,\n",
       "       [0, 0, 0, ..., 0, 0, 0],\n",
       "       [0, 1, 0, ..., 0, 0, 0],\n",
       "       [0, 1, 0, ..., 1, 1, 1]])"
      ]
     },
     "execution_count": 47,
     "metadata": {},
     "output_type": "execute_result"
    }
   ],
   "source": [
    "X"
   ]
  },
  {
   "cell_type": "code",
   "execution_count": 75,
   "metadata": {},
   "outputs": [
    {
     "data": {
      "text/plain": [
       "9"
      ]
     },
     "execution_count": 75,
     "metadata": {},
     "output_type": "execute_result"
    }
   ],
   "source": [
    "np.argmax(tr.tolist())"
   ]
  },
  {
   "cell_type": "code",
   "execution_count": 26,
   "metadata": {},
   "outputs": [
    {
     "data": {
      "text/plain": [
       "tensor([[1.2448e-03, 3.4089e-06, 8.3435e-04, 4.2146e-07, 1.0435e-06, 4.2400e-06,\n",
       "         1.4988e-04, 1.4994e-02, 8.8724e-04, 3.5845e-04, 2.6440e-05, 1.6855e-04,\n",
       "         1.9007e-05, 1.3889e-05, 1.4789e-05, 3.0491e-04, 3.3344e-04, 1.7406e-04,\n",
       "         1.7491e-05, 1.2299e-06, 1.2538e-04, 4.2968e-04, 1.0660e-05, 5.5083e-04,\n",
       "         3.0612e-05, 7.6734e-05, 1.3958e-03, 3.8225e-02, 1.5970e-03, 1.8346e-06,\n",
       "         5.0398e-02, 7.7265e-05, 4.8746e-04, 8.6535e-01, 2.0459e-02, 1.0831e-03,\n",
       "         5.8717e-05, 1.9469e-07, 2.9672e-05, 5.2807e-05, 1.1839e-05]],\n",
       "       grad_fn=<SoftmaxBackward0>)"
      ]
     },
     "execution_count": 26,
     "metadata": {},
     "output_type": "execute_result"
    }
   ],
   "source": [
    "tr"
   ]
  },
  {
   "cell_type": "code",
   "execution_count": null,
   "metadata": {},
   "outputs": [],
   "source": []
  }
 ],
 "metadata": {
  "kernelspec": {
   "display_name": "Python 3",
   "language": "python",
   "name": "python3"
  },
  "language_info": {
   "codemirror_mode": {
    "name": "ipython",
    "version": 3
   },
   "file_extension": ".py",
   "mimetype": "text/x-python",
   "name": "python",
   "nbconvert_exporter": "python",
   "pygments_lexer": "ipython3",
   "version": "3.10.10"
  },
  "orig_nbformat": 4
 },
 "nbformat": 4,
 "nbformat_minor": 2
}
